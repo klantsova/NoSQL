{
 "cells": [
  {
   "cell_type": "code",
   "execution_count": 1,
   "id": "c07cb074-d796-4751-bcc6-ed9c6fc40108",
   "metadata": {},
   "outputs": [],
   "source": [
    "# подгружаем библиотеки\n",
    "import numpy as np\n",
    "import pandas as pd\n",
    "import requests\n",
    "from tqdm import tqdm\n",
    "from neo4j import GraphDatabase # pip install neo4j"
   ]
  },
  {
   "cell_type": "code",
   "execution_count": 7,
   "id": "22dbb9bd",
   "metadata": {},
   "outputs": [
    {
     "data": {
      "text/plain": [
       "[]"
      ]
     },
     "execution_count": 7,
     "metadata": {},
     "output_type": "execute_result"
    }
   ],
   "source": [
    "# подключения питона к neo4j\n",
    "class Neo4jConnection:\n",
    "    def __init__(self, uri, user, password):\n",
    "        self.driver = GraphDatabase.driver(uri, auth=(user, password))\n",
    "\n",
    "    def close(self):\n",
    "        if self.driver is not None:\n",
    "            self.driver.close()\n",
    "\n",
    "# Метод, который передает запрос в БД\n",
    "    def query(self, query, db=None):\n",
    "        assert self.driver is not None, \"Driver not initialized!\"\n",
    "        session = None\n",
    "        response = None\n",
    "        try:\n",
    "            session = self.driver.session(database=db) if db is not None else self.driver.session()\n",
    "            response = list(session.run(query))\n",
    "        except Exception as e:\n",
    "            print(\"Query failed:\", e)\n",
    "        finally:\n",
    "            if session is not None:\n",
    "                session.close()\n",
    "        return response\n",
    "    \n",
    "conn = Neo4jConnection(uri=\"bolt://localhost:7687\", user=\"Ksenia\", password=\"Ct358Bio\")\n",
    "conn.query(\"CREATE OR REPLACE DATABASE moviebd\")"
   ]
  },
  {
   "cell_type": "code",
   "execution_count": 3,
   "id": "4dc0e09f-02f6-43f2-8586-15aa97a531f4",
   "metadata": {},
   "outputs": [
    {
     "name": "stderr",
     "output_type": "stream",
     "text": [
      "100%|██████████████████████████████████████████████████████████████████████████████████| 10/10 [00:00<00:00, 13.19it/s]\n",
      "100%|██████████████████████████████████████████████████████████████████████████████████| 10/10 [00:00<00:00, 14.62it/s]\n"
     ]
    }
   ],
   "source": [
    "l = 300 # первый film_id\n",
    "n = 10 # кол-во индексов перебрать\n",
    "\n",
    "# парсим фильмы\n",
    "films = []\n",
    "for i in tqdm(range(l,l+n)):\n",
    "    url = 'https://kinopoiskapiunofficial.tech/api/v2.2/films/' + str(i)\n",
    "    headers = {'X-API-KEY':'883331c9-daee-4173-bbe5-332e13a5252d', 'Content-Type':'application/json',}\n",
    "    response = requests.get(url, headers = headers)\n",
    "    if response.status_code == 200:\n",
    "        films.append(response.json())\n",
    "# создаем csv\n",
    "films_1 = pd.DataFrame(films)[['kinopoiskId','nameRu','ratingKinopoisk','ratingKinopoiskVoteCount','year','filmLength','slogan','ratingAgeLimits','shortDescription','countries','genres']]\n",
    "films_1['countries'] = films_1['countries'].map(lambda x: [item['country'] for item in x])\n",
    "films_1['genres'] = films_1['genres'].map(lambda x: [item['genre'] for item in x])\n",
    "films_1.to_csv('C:/Users/79653/.Neo4jDesktop/relate-data/dbmss/dbms-2d2b424a-9a21-41ab-8dd3-d3640660c98a/import/films.csv', index = None)\n",
    "\n",
    "# парсим людей\n",
    "persons = []\n",
    "for i in tqdm(range(l,l+n)):\n",
    "    url = 'https://kinopoiskapiunofficial.tech/api/v1/staff?filmId=' + str(i)\n",
    "    headers = {'X-API-KEY':'883331c9-daee-4173-bbe5-332e13a5252d', 'Content-Type':'application/json',}\n",
    "    response = requests.get(url, headers = headers)\n",
    "    if response.status_code == 200:\n",
    "        persons.append(response.json())\n",
    "# создаем csv\n",
    "k = []\n",
    "for i in persons:\n",
    "    for j in i:\n",
    "        k.append(j)\n",
    "persons_1 = pd.DataFrame(k)[['staffId','nameRu']].drop_duplicates()\n",
    "persons_1.to_csv('C:/Users/79653/.Neo4jDesktop/relate-data/dbmss/dbms-2d2b424a-9a21-41ab-8dd3-d3640660c98a/import/persons.csv', index = None)\n",
    "\n",
    "# создаем вспомогательную таблицу (для связей узлов)\n",
    "film_id = []\n",
    "staff_id = []\n",
    "proff_key = []\n",
    "roles = []\n",
    "for i in range(len(pd.Series(films).map(lambda x: x['kinopoiskId']))):\n",
    "    for j in persons[i]:\n",
    "        film_id.append(pd.Series(films).map(lambda x: x['kinopoiskId']).iloc[i])\n",
    "        staff_id.append(j['staffId'])\n",
    "        proff_key.append(j['professionKey'])\n",
    "        roles.append(j['description'])\n",
    "extra_table = pd.DataFrame({'film_id':film_id,'staff_id':staff_id,'proff_key':proff_key,'roles':roles})\n",
    "extra_table = extra_table[extra_table['proff_key'].isin(['DIRECTOR','ACTOR','PRODUCER','WRITER'])] # оставляем только нужные связи\n",
    "extra_table = extra_table.drop(extra_table[extra_table.proff_key == 'ACTOR'][extra_table[extra_table.proff_key == 'ACTOR']['roles'].isna()].index) # оставляем только актеров, у которых указана роль\n",
    "# создаем csv\n",
    "extra_table[extra_table['proff_key'] == 'ACTOR'].to_csv('C:/Users/79653/.Neo4jDesktop/relate-data/dbmss/dbms-2d2b424a-9a21-41ab-8dd3-d3640660c98a/import/extra_table_actors.csv', index = None)\n",
    "extra_table[extra_table['proff_key'] == 'PRODUCER'].to_csv('C:/Users/79653/.Neo4jDesktop/relate-data/dbmss/dbms-2d2b424a-9a21-41ab-8dd3-d3640660c98a/import/extra_table_producers.csv', index = None)\n",
    "extra_table[extra_table['proff_key'] == 'WRITER'].to_csv('C:/Users/79653/.Neo4jDesktop/relate-data/dbmss/dbms-2d2b424a-9a21-41ab-8dd3-d3640660c98a/import/extra_table_writers.csv', index = None)\n",
    "extra_table[extra_table['proff_key'] == 'DIRECTOR'].to_csv('C:/Users/79653/.Neo4jDesktop/relate-data/dbmss/dbms-2d2b424a-9a21-41ab-8dd3-d3640660c98a/import/extra_table_directors.csv', index = None)"
   ]
  },
  {
   "cell_type": "code",
   "execution_count": 8,
   "id": "c7e7cbb0",
   "metadata": {},
   "outputs": [
    {
     "data": {
      "text/plain": [
       "[]"
      ]
     },
     "execution_count": 8,
     "metadata": {},
     "output_type": "execute_result"
    }
   ],
   "source": [
    "# загружаем узлы (люди)\n",
    "query_string = '''\n",
    "LOAD CSV WITH HEADERS FROM\n",
    "'file:///persons.csv'\n",
    "AS persons FIELDTERMINATOR ','\n",
    "MERGE (person:Person {personID: persons.staffId})\n",
    "  ON CREATE SET person.Name = persons.nameRu;\n",
    "'''\n",
    "conn.query(query_string, db='moviebd')"
   ]
  },
  {
   "cell_type": "code",
   "execution_count": 9,
   "id": "b6d3899b",
   "metadata": {},
   "outputs": [
    {
     "data": {
      "text/plain": [
       "[]"
      ]
     },
     "execution_count": 9,
     "metadata": {},
     "output_type": "execute_result"
    }
   ],
   "source": [
    "# загружаем узлы (фильмы)\n",
    "query_string = '''\n",
    "LOAD CSV WITH HEADERS FROM\n",
    "'file:///films.csv'\n",
    "AS films FIELDTERMINATOR ','\n",
    "MERGE (film:Movie {filmID: films.kinopoiskId})\n",
    "  ON CREATE SET film.Name = films.nameRu, film.Rating = films.ratingKinopoisk, film.VoteCount = films.ratingKinopoiskVoteCount, film.Year = films.yesr, film.Length = films.filmLength, film.Slogan = films.slogan, film.AgeLimits = films.ratingAgeLimits, film.Description = films.shortDescription, film.Countries = films.countries, film.Genres = films.genres;\n",
    "'''\n",
    "conn.query(query_string, db='moviebd')"
   ]
  },
  {
   "cell_type": "code",
   "execution_count": 10,
   "id": "7116b696",
   "metadata": {},
   "outputs": [
    {
     "data": {
      "text/plain": [
       "[]"
      ]
     },
     "execution_count": 10,
     "metadata": {},
     "output_type": "execute_result"
    }
   ],
   "source": [
    "# загружаем связи (люди -> фильмы)\n",
    "# актеры:\n",
    "query_string = '''\n",
    "LOAD CSV WITH HEADERS FROM 'file:///extra_table_actors.csv' AS line\n",
    "MATCH (person:Person {personID: line.staff_id})\n",
    "MATCH (film:Movie {filmID: line.film_id})\n",
    "MERGE (person)-[op:ACTED_IN]->(film)\n",
    "  ON CREATE SET op.roles = line.roles;\n",
    "'''\n",
    "conn.query(query_string, db='moviebd')\n",
    "\n",
    "# продюсеры:\n",
    "query_string ='''\n",
    "LOAD CSV WITH HEADERS FROM 'file:///extra_table_producers.csv' AS line\n",
    "MATCH (person:Person {personID: line.staff_id})\n",
    "MATCH (film:Movie {filmID: line.film_id})\n",
    "CREATE (person)-[:PRODUCED]->(film);\n",
    "'''\n",
    "conn.query(query_string, db='moviebd')\n",
    "\n",
    "# режиссеры:\n",
    "query_string ='''\n",
    "LOAD CSV WITH HEADERS FROM 'file:///extra_table_directors.csv' AS line\n",
    "MATCH (person:Person {personID: line.staff_id})\n",
    "MATCH (film:Movie {filmID: line.film_id})\n",
    "CREATE (person)-[:DIRECTED]->(film);\n",
    "'''\n",
    "conn.query(query_string, db='moviebd')\n",
    "\n",
    "# писатели:\n",
    "query_string ='''\n",
    "LOAD CSV WITH HEADERS FROM 'file:///extra_table_writers.csv' AS line\n",
    "MATCH (person:Person {personID: line.staff_id})\n",
    "MATCH (film:Movie {filmID: line.film_id})\n",
    "CREATE (person)-[:WRITTEN]->(film);\n",
    "'''\n",
    "conn.query(query_string, db='moviebd')"
   ]
  }
 ],
 "metadata": {
  "kernelspec": {
   "display_name": "Python 3 (ipykernel)",
   "language": "python",
   "name": "python3"
  },
  "language_info": {
   "codemirror_mode": {
    "name": "ipython",
    "version": 3
   },
   "file_extension": ".py",
   "mimetype": "text/x-python",
   "name": "python",
   "nbconvert_exporter": "python",
   "pygments_lexer": "ipython3",
   "version": "3.8.11"
  }
 },
 "nbformat": 4,
 "nbformat_minor": 5
}
